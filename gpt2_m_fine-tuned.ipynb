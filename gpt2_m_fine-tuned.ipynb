{
 "cells": [
  {
   "cell_type": "code",
   "execution_count": 8,
   "id": "cea910af",
   "metadata": {},
   "outputs": [],
   "source": [
    "# homemade gpt imports\n",
    "from my_gpt2.gpt_utils import gpt2_assistant\n",
    "\n",
    "# ignore future warning in loading of model\n",
    "import warnings\n",
    "warnings.simplefilter(action='ignore', category=FutureWarning)\n"
   ]
  }
 ],
 "metadata": {
  "kernelspec": {
   "display_name": "gpt2-venv",
   "language": "python",
   "name": "python3"
  },
  "language_info": {
   "codemirror_mode": {
    "name": "ipython",
    "version": 3
   },
   "file_extension": ".py",
   "mimetype": "text/x-python",
   "name": "python",
   "nbconvert_exporter": "python",
   "pygments_lexer": "ipython3",
   "version": "3.12.8"
  }
 },
 "nbformat": 4,
 "nbformat_minor": 5
}
