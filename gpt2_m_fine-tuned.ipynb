{
 "cells": [
  {
   "cell_type": "code",
   "execution_count": null,
   "id": "cea910af",
   "metadata": {},
   "outputs": [],
   "source": [
    "# homemade gpt imports\n",
    "from my_gpt2.gpt_utils import gpt2_assistant\n",
    "\n",
    "# ignore future warning in loading of model\n",
    "import warnings\n",
    "warnings.simplefilter(action='ignore', category=FutureWarning)\n"
   ]
  },
  {
   "cell_type": "code",
   "execution_count": 3,
   "id": "6193ba65",
   "metadata": {},
   "outputs": [
    {
     "name": "stdout",
     "output_type": "stream",
     "text": [
      "output:\n",
      " What is the capital of Norway?\n",
      "\n",
      "There are 29 capital cities in Norway.\n"
     ]
    }
   ],
   "source": [
    "gpt2_assistant(\"What is the capital of Norway?\")"
   ]
  },
  {
   "cell_type": "code",
   "execution_count": null,
   "id": "2e31357a",
   "metadata": {},
   "outputs": [],
   "source": []
  },
  {
   "cell_type": "code",
   "execution_count": null,
   "id": "dcdd355b",
   "metadata": {},
   "outputs": [],
   "source": []
  }
 ],
 "metadata": {
  "kernelspec": {
   "display_name": "gpt2-venv",
   "language": "python",
   "name": "python3"
  },
  "language_info": {
   "codemirror_mode": {
    "name": "ipython",
    "version": 3
   },
   "file_extension": ".py",
   "mimetype": "text/x-python",
   "name": "python",
   "nbconvert_exporter": "python",
   "pygments_lexer": "ipython3",
   "version": "3.12.8"
  }
 },
 "nbformat": 4,
 "nbformat_minor": 5
}
